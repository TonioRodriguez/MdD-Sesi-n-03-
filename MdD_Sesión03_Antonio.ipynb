{
  "nbformat": 4,
  "nbformat_minor": 0,
  "metadata": {
    "colab": {
      "provenance": [],
      "authorship_tag": "ABX9TyO0vnrCwwamf8Sf1PAfp2pf",
      "include_colab_link": true
    },
    "kernelspec": {
      "name": "python3",
      "display_name": "Python 3"
    },
    "language_info": {
      "name": "python"
    }
  },
  "cells": [
    {
      "cell_type": "markdown",
      "metadata": {
        "id": "view-in-github",
        "colab_type": "text"
      },
      "source": [
        "<a href=\"https://colab.research.google.com/github/TonioRodriguez/MdD-Sesi-n-03-/blob/main/MdD_Sesi%C3%B3n03_Antonio.ipynb\" target=\"_parent\"><img src=\"https://colab.research.google.com/assets/colab-badge.svg\" alt=\"Open In Colab\"/></a>"
      ]
    },
    {
      "cell_type": "markdown",
      "source": [
        "# <font color = #009b7d> Minería de Datos </font>\n",
        "## <font color = #009b7d> Sesión 03: Python </font>\n",
        "### <font color = #009b7d>Prof: Vilchis García Juan Ignacio </font>\n",
        "#### <font color = #009b7d>Alumno: Rodríguez Esquivel Luis Antonio </font>\n",
        "#### <font color = #009b7d>Fecha: Miercoles 20 de agosto de 2025 </font>"
      ],
      "metadata": {
        "id": "kSJhhPEVv8U1"
      }
    },
    {
      "cell_type": "markdown",
      "source": [
        "### Ejercicio Resuelto 3.01\n",
        "Elaborar un programa para calcular e imprimir el sueldo de un empleado.\n",
        "\n",
        "\tDatos de entrada:\n",
        "\t\t*Nombre del empleado\n",
        "\t\t*Horas Trabajadas\n",
        "\t\t*Cuota por hora\n",
        "\n",
        "\tDatos de salida:\n",
        "\t\t*Nombre del empleado\n",
        "\t\t*Sueldo"
      ],
      "metadata": {
        "id": "1jevwiTZ1EEL"
      }
    },
    {
      "cell_type": "code",
      "execution_count": null,
      "metadata": {
        "colab": {
          "base_uri": "https://localhost:8080/"
        },
        "id": "Sd3Jh_ZOv3-J",
        "outputId": "88120929-7c0e-4d80-e922-5e88fd89a9f6"
      },
      "outputs": [
        {
          "output_type": "stream",
          "name": "stdout",
          "text": [
            "Este programa calcula el sueldo de un empleado\n",
            "**********************************************\n",
            "Introduce el nombre del empleado: Antonio Rodríguez\n",
            "Introduce las horas trabajadas: 40\n",
            "Introduce la cuota por hora: $200\n",
            "****************************************\n",
            "Nombre:  Antonio Rodríguez\n",
            "Sueldo:  8000.0\n"
          ]
        }
      ],
      "source": [
        "print('Este programa calcula el sueldo de un empleado')\n",
        "print('**********************************************')\n",
        "nombre = input('Introduce el nombre del empleado: ')\n",
        "horas = int(input('Introduce las horas trabajadas: '))\n",
        "cuota = float(input('Introduce la cuota por hora: $'))\n",
        "print('*'*40)\n",
        "sueldo = (horas * cuota)\n",
        "print('Nombre: ', nombre)\n",
        "print('Sueldo: ', sueldo)"
      ]
    },
    {
      "cell_type": "markdown",
      "source": [
        "### Ejercicio Resuelto 3.02\n",
        "Elaborar un programa para calcular e imprimir el área de un triángulo.\n",
        "\n",
        "    Datos de entrada:\n",
        "\t    *Base del triangulo\n",
        "\t    *Altura del triangulo\n",
        "\n",
        "    Datos de salida:\n",
        "\t    *Área del triangulo"
      ],
      "metadata": {
        "id": "B5rBfdb73xA5"
      }
    },
    {
      "cell_type": "code",
      "source": [
        "print('Calcula el área de un triángulo')\n",
        "print('*'*40)\n",
        "base = float(input('Introduce la base del triángulo: '))\n",
        "altura = float(input('Introduce la altura del triángulo: '))\n",
        "print('*'*40)\n",
        "area = (base * altura) / 2\n",
        "print('El área del triángulo es: ', area)"
      ],
      "metadata": {
        "colab": {
          "base_uri": "https://localhost:8080/"
        },
        "id": "QjT369_Z4MQz",
        "outputId": "8aab7bc3-1772-4870-d13d-f96672207c48"
      },
      "execution_count": null,
      "outputs": [
        {
          "output_type": "stream",
          "name": "stdout",
          "text": [
            "Calcula el área de un triángulo\n",
            "****************************************\n",
            "Introduce la base del triángulo:4\n",
            "Introduce la altura del triángulo:4\n",
            "****************************************\n",
            "El área del triángulo es:  8.0\n"
          ]
        }
      ]
    },
    {
      "cell_type": "markdown",
      "source": [
        "### Ejercicio Resuelto 3.03\n",
        "Elaborar un programa para calcular el promedio de calificaciones de un estudiante.\n",
        "\n",
        "    Datos de entrada:\n",
        "\t    *Nombre\n",
        "\t    *Calificaciones de 4 exámenes\n",
        "\n",
        "    Datos de salida:\n",
        "\t    *Nombre\n",
        "\t    *Promedio\n",
        "      "
      ],
      "metadata": {
        "id": "CNoGDXkc5JMw"
      }
    },
    {
      "cell_type": "code",
      "source": [
        "print('Este programa calcula el promedio de las 4 calificaciones de un estudiante')\n",
        "print('*'*40)\n",
        "nombre = input('Introduce el nombre del alumno: ')\n",
        "c1 = float(input('Introduce calificación 1: '))\n",
        "c2 = float(input('Introduce calificación 2: '))\n",
        "c3 = float(input('Introduce calificación 3: '))\n",
        "c4 = float(input('Introduce calificación 4: '))\n",
        "promedio = (c1 + c2 + c3 + c4) / 4\n",
        "print('*'*40)\n",
        "print('Nombre: ', nombre)\n",
        "print('Promedio: ', promedio)"
      ],
      "metadata": {
        "colab": {
          "base_uri": "https://localhost:8080/"
        },
        "id": "o2ttVxnM5iyu",
        "outputId": "1b5b9943-1bff-4fb7-ed9f-ff7fd6eb8208"
      },
      "execution_count": null,
      "outputs": [
        {
          "output_type": "stream",
          "name": "stdout",
          "text": [
            "Este programa calcula el promedio de las 4 calificaciones de un estudiante\n",
            "****************************************\n",
            "Introduce el nombre del alumnoAntonio Rodríguez\n",
            "Introduce calificación 1: 8.8\n",
            "Introduce calificación 2: 9.7\n",
            "Introduce calificación 3: 6.9\n",
            "Introduce calificación 4: 5.6\n",
            "****************************************\n",
            "Nombre:  Antonio Rodríguez\n",
            "Promedio:  7.75\n"
          ]
        }
      ]
    },
    {
      "cell_type": "markdown",
      "source": [
        "### Evaluación Sesión 03"
      ],
      "metadata": {
        "id": "xnWdqwxr6lq0"
      }
    },
    {
      "cell_type": "code",
      "source": [
        "# Ejercicio Evaluación 3.01\n",
        "print('Este programa calcula el PIB per cápita')\n",
        "print('*'*40)\n",
        "pais = input('Introduce el nombre del país: ')\n",
        "pib = float(input('Introduce el PIB del país: '))\n",
        "numhab = int(input('Introduce el número de habitantes: '))\n",
        "percapita = float(pib / numhab)\n",
        "print('*'*40)\n",
        "print('País: ', pais)\n",
        "print('PIB per cápita: ', percapita)"
      ],
      "metadata": {
        "colab": {
          "base_uri": "https://localhost:8080/"
        },
        "id": "rpUnSVfT7QIM",
        "outputId": "5359548c-21f5-46e6-c073-db10c276a429"
      },
      "execution_count": null,
      "outputs": [
        {
          "output_type": "stream",
          "name": "stdout",
          "text": [
            "Este programa calcula el PIB per cápita\n",
            "****************************************\n",
            "Introduce el nombre del país: Angorra\n",
            "Introduce el PIB del país: 3000000000000\n",
            "Introduce el número de habitantes: 40000000\n",
            "****************************************\n",
            "País:  Angorra\n",
            "PIB per cápita:  75000.0\n"
          ]
        }
      ]
    },
    {
      "cell_type": "code",
      "source": [
        "# Ejercicio Evaluación 3.02\n",
        "print('Este programa calcula elnúmero de nacimeintos de un país')\n",
        "print('*'*40)\n",
        "pais = input('Introduce el nombre del país: ')\n",
        "tnc = float(input('Introduce la tasa de nacimiento cruda: '))\n",
        "numhab = int(input('Introduce el número de habitantes: '))\n",
        "numnac = int((tnc * numhab) / 1000)\n",
        "print('*'*40)\n",
        "print('País: ', pais)\n",
        "print('Número de nacimientos: ', numnac)"
      ],
      "metadata": {
        "colab": {
          "base_uri": "https://localhost:8080/"
        },
        "id": "nABlRWeq8puH",
        "outputId": "75184253-8e3a-4e3d-883a-55a84274b2c5"
      },
      "execution_count": null,
      "outputs": [
        {
          "output_type": "stream",
          "name": "stdout",
          "text": [
            "Este programa calcula elnúmero de nacimeintos de un país\n",
            "****************************************\n",
            "Introduce el nombre del país: México\n",
            "Introduce la tasa de nacimiento cruda: 2.4\n",
            "Introduce el número de habitantes: 123456789\n",
            "****************************************\n",
            "País:  México\n",
            "Número de nacimientos:  296296\n"
          ]
        }
      ]
    },
    {
      "cell_type": "code",
      "source": [
        "# Ejercicio Evaluación 3.03\n",
        "print('Este programa calcula la tasa de crecimiento poblacional')\n",
        "print('*'*40)\n",
        "pais = input('Introduce el nombre del país: ')\n",
        "pob1 = int(input('Introduce la población inicial: '))\n",
        "pob2 = int(input('Introduce la población final: '))\n",
        "tcp = float(((pob2 - pob1)/pob1)*100)\n",
        "print('*'*40)\n",
        "print('País: ', pais)\n",
        "print('Tasa de crecimiento poblacional: ', tcp)"
      ],
      "metadata": {
        "colab": {
          "base_uri": "https://localhost:8080/"
        },
        "id": "moLJIrs6-Civ",
        "outputId": "b665a8d1-4063-4324-8c4f-a92c35e37870"
      },
      "execution_count": null,
      "outputs": [
        {
          "output_type": "stream",
          "name": "stdout",
          "text": [
            "Este programa calcula la tasa de crecimiento poblacional\n",
            "****************************************\n",
            "Introduce el nombre del país: Inglaterra\n",
            "Introduce la población inicial: 123456789\n",
            "Introduce la población final: 156789234\n",
            "****************************************\n",
            "País:  Inglaterra\n",
            "Tasa de crecimiento poblacional:  26.999280695693457\n"
          ]
        }
      ]
    },
    {
      "cell_type": "code",
      "source": [
        "# Ejercicio Evaluación 3.04\n",
        "print('Este programa calcula el precio de un producto con Impuesto al Valor Agregado (IVA): ')\n",
        "print('*'*40)\n",
        "producto = input('Introduce el producto: ')\n",
        "precio = float(input('Introduce el precio de un producto: '))\n",
        "porcentaje = float(input('Introduce la tasa del IVA en porcentaje: '))\n",
        "pFinal = float(((porcentaje * precio)/ 100)+precio)\n",
        "print('*'*40)\n",
        "print('Producto: ', producto)\n",
        "print('Precio final: ', pFinal)\n"
      ],
      "metadata": {
        "colab": {
          "base_uri": "https://localhost:8080/"
        },
        "id": "bURzf9AU_Zpq",
        "outputId": "512479d4-65be-420f-b0bf-b3d5c939a87f"
      },
      "execution_count": null,
      "outputs": [
        {
          "output_type": "stream",
          "name": "stdout",
          "text": [
            "Este programa calcula el precio de un producto con Impuesto al Valor Agregado (IVA): \n",
            "****************************************\n",
            "Introduce el producto: Carro\n",
            "Introduce el precio de un producto: 300000\n",
            "Introduce la tasa del IVA en porcentaje: 15.8\n",
            "****************************************\n",
            "Producto:  Carro\n",
            "Precio final:  347400.0\n"
          ]
        }
      ]
    },
    {
      "cell_type": "code",
      "source": [
        "# Ejercicio Evaluación 3.05\n",
        "print('Este programa calcula el ingreso neto después de un impuesto de renta: ')\n",
        "print('*'*40)\n",
        "iBruto = float(input('Introduce el ingreso bruto: '))\n",
        "porcentaje = float(input('Introduce la tasa del impuesto sobre la renta en porcentaje: '))\n",
        "iNeto = float(iBruto - ((porcentaje * iBruto)/ 100))\n",
        "print('*'*40)\n",
        "print('Ingreso neto: ', iNeto)"
      ],
      "metadata": {
        "colab": {
          "base_uri": "https://localhost:8080/"
        },
        "id": "UHrAeot2A0nx",
        "outputId": "f2922c64-7605-456a-d9b9-647d533947a5"
      },
      "execution_count": null,
      "outputs": [
        {
          "output_type": "stream",
          "name": "stdout",
          "text": [
            "Este programa calcula el ingreso neto después de un impuesto de renta: \n",
            "****************************************\n",
            "Introduce el ingreso bruto: 20000\n",
            "Introduce la tasa del impuesto sobre la renta en porcentaje: 18\n",
            "****************************************\n",
            "Ingreso neto:  16400.0\n"
          ]
        }
      ]
    },
    {
      "cell_type": "code",
      "source": [
        "a=8\n",
        "b=4\n",
        "print(a)\n",
        "print(b)"
      ],
      "metadata": {
        "colab": {
          "base_uri": "https://localhost:8080/"
        },
        "id": "AgXjijTED2Qm",
        "outputId": "4e53f317-3bad-47a0-d100-c9b1f81a3e15"
      },
      "execution_count": null,
      "outputs": [
        {
          "output_type": "stream",
          "name": "stdout",
          "text": [
            "8\n",
            "4\n"
          ]
        }
      ]
    },
    {
      "cell_type": "code",
      "source": [
        "# if -True\n",
        "if(a > b):\n",
        "  print('a es mayor que b')\n",
        "  print(f'{a} es mayor que {b}')\n"
      ],
      "metadata": {
        "colab": {
          "base_uri": "https://localhost:8080/"
        },
        "id": "VAE2IkdDEZBn",
        "outputId": "51fd5054-b291-4bf8-c815-963f01cf0f51"
      },
      "execution_count": null,
      "outputs": [
        {
          "output_type": "stream",
          "name": "stdout",
          "text": [
            "a es mayor que b\n",
            "8 es mayor que 4\n"
          ]
        }
      ]
    },
    {
      "cell_type": "code",
      "source": [
        "# if - False\n",
        "if(a < b):\n",
        "  print('a es menor que b')\n",
        "  print(f'{a} es menor que {b}')"
      ],
      "metadata": {
        "id": "jBbTuMciFLGW"
      },
      "execution_count": null,
      "outputs": []
    },
    {
      "cell_type": "code",
      "source": [
        "# if - else\n",
        "a = 20\n",
        "b = 25\n",
        "if(a > b):\n",
        "  print(f'{a} es mayor que {b}')\n",
        "else:\n",
        "  print(f'{a} es menor que {b}')"
      ],
      "metadata": {
        "colab": {
          "base_uri": "https://localhost:8080/"
        },
        "id": "e3EkbLJcFf1E",
        "outputId": "6486ebf4-ae0a-4705-c75c-98ea4ec0e00e"
      },
      "execution_count": null,
      "outputs": [
        {
          "output_type": "stream",
          "name": "stdout",
          "text": [
            "20 es menor que 25\n"
          ]
        }
      ]
    },
    {
      "cell_type": "code",
      "source": [
        "# elif\n",
        "a = 15\n",
        "b = 20\n",
        "if(a > b):\n",
        "  print(f'{a} es mayor que {b}')\n",
        "elif(a < b):\n",
        "  print(f'{a} es menor que {b}')\n",
        "else:\n",
        "  print(f'{a} es igual que {b}')"
      ],
      "metadata": {
        "colab": {
          "base_uri": "https://localhost:8080/"
        },
        "id": "MkpSuVcUGJzt",
        "outputId": "ffd02b41-ceaf-445b-a217-d8ab7839fddf"
      },
      "execution_count": null,
      "outputs": [
        {
          "output_type": "stream",
          "name": "stdout",
          "text": [
            "15 es menor que 20\n"
          ]
        }
      ]
    },
    {
      "cell_type": "markdown",
      "source": [
        "### Ejercicio Resuelto 3.01\n",
        "Ingresar el sueldo de una persona, si supera los 5000 pesos mostrar un mensaje en pantalla indicando que debe abonar impuestos."
      ],
      "metadata": {
        "id": "CGbuQSYPHCA8"
      }
    },
    {
      "cell_type": "code",
      "source": [
        "print('Sueldo simple')\n",
        "print('-'*50)\n",
        "sueldo = float(input('Ingrese el sueldo: $'))\n",
        "if(sueldo > 5000):\n",
        "  print('Debe de abonar impuestos!!!!!')"
      ],
      "metadata": {
        "colab": {
          "base_uri": "https://localhost:8080/"
        },
        "id": "vKuC5VC7HD-l",
        "outputId": "b8fc859b-1ef5-441e-fbc8-274a1db11307"
      },
      "execution_count": null,
      "outputs": [
        {
          "output_type": "stream",
          "name": "stdout",
          "text": [
            "Sueldo simple\n",
            "//////////////////////////////////////////////////\n",
            "Ingrese el sueldo: $5678\n",
            "Debe de abonar impuestos!!!!!\n"
          ]
        }
      ]
    },
    {
      "cell_type": "markdown",
      "source": [
        "### Ejercicio Propuesto 3.01\n",
        "Elaborar un programa que pida ingresar las calificaciones de las asignaturas de:\n",
        "\n",
        "*   Estadística\n",
        "*   Poloticas Públicas\n",
        "*   Econometría\n",
        "\n",
        "Calcular el promedio y si es mayor o igual a 8 mostrar el mensaje “Aprobado”."
      ],
      "metadata": {
        "id": "iglIiPUzIEv5"
      }
    },
    {
      "cell_type": "code",
      "source": [
        "print('Este programa genera el promedio de un estudiante y muestra si su estatus es \"Aprobado\"')\n",
        "print('-'*40)\n",
        "nombre = input('Introduce el nombre del estudiante: ')\n",
        "esta = float(input('Introduce su calificación de Estadística: '))\n",
        "pp = float(input('Introduce su calificación de Políticas Públicas: '))\n",
        "eco = float(input('Introduce su calificación de Econometría: '))\n",
        "promedio = float((esta + pp + eco) / 3 )\n",
        "print('-'*40)\n",
        "if(promedio >= 8):\n",
        "  print(f'{nombre} esta \"Aprobado\"')\n"
      ],
      "metadata": {
        "colab": {
          "base_uri": "https://localhost:8080/"
        },
        "id": "-Bk97JM8IFvr",
        "outputId": "4076835c-75a7-41c0-ed36-6511c152cd8f"
      },
      "execution_count": null,
      "outputs": [
        {
          "output_type": "stream",
          "name": "stdout",
          "text": [
            "Este programa genera el promedio de un estudiante y muestra si su estatus es \"Aprobado\"\n",
            "----------------------------------------\n",
            "Introduce el nombre del estudiante: Alfonso Cuarón\n",
            "Introduce su calificación de Estadística: 8.9\n",
            "Introduce su calificación de Políticas Públicas: 9.4\n",
            "Introduce su calificación de Econometría: 8.8\n",
            "----------------------------------------\n",
            "Alfonso Cuarón esta \"Aprobado\"\n"
          ]
        }
      ]
    },
    {
      "cell_type": "markdown",
      "source": [
        "### Ejercicio Resuelto 3.02\n",
        "Realizar un programa que solicite al operador ingresar dos números y muestre por pantalla el mayor de ellos\n",
        "\n",
        "\n",
        "\n"
      ],
      "metadata": {
        "id": "wlRkSD73MhFc"
      }
    },
    {
      "cell_type": "code",
      "source": [
        "print('Este programa solicita dos números y muestra el mayor de ellos')\n",
        "print('-'*40)\n",
        "a = int(input('Ingresa el primer número: '))\n",
        "b = int(input('Ingresa el segundo número: '))\n",
        "print('-'*40)\n",
        "print('El número mayor es: ')\n",
        "if(a > b):\n",
        "  print(a)\n",
        "else:\n",
        "  print(b)\n"
      ],
      "metadata": {
        "colab": {
          "base_uri": "https://localhost:8080/"
        },
        "id": "Zmgj5hi5MeeY",
        "outputId": "c9e84140-ef51-448e-c9ad-c58ddde8c557"
      },
      "execution_count": null,
      "outputs": [
        {
          "output_type": "stream",
          "name": "stdout",
          "text": [
            "Este programa solicita dos números y muestra el mayor de ellos\n",
            "----------------------------------------\n",
            "Ingresa el primer número: 9\n",
            "Ingresa el segundo número: 8\n",
            "----------------------------------------\n",
            "El número mayor es: \n",
            "9\n"
          ]
        }
      ]
    },
    {
      "cell_type": "markdown",
      "source": [
        "### Ejercicio Propuesto 3.02\n",
        "Elaborar un programa que pida ingresar las calificaciones de las asignaturas de:\n",
        "\n",
        "*   Metodología\n",
        "*   Seguridad Nacional\n",
        "*   Economía Urbana\n",
        "*   Mortalidad y Salud\n",
        "*   Trabajo\n",
        "\n",
        "Calcular el promedio y si es mayor o igual a 8 mostrar el mensaje “Aprobado”.\n",
        "En caso contrario mostrar el mensaje “No Aprobado”"
      ],
      "metadata": {
        "id": "Bjh_Vwe_N9I3"
      }
    },
    {
      "cell_type": "markdown",
      "source": [
        "\n",
        "\n",
        "---\n",
        "\n"
      ],
      "metadata": {
        "id": "EaOiInqfDwN4"
      }
    },
    {
      "cell_type": "code",
      "source": [
        "print('Este programa genera el promedio de un estudiante y muestra si su estatus es \"Aprobado\" o \"Reprobado\"')\n",
        "print('-'*40)\n",
        "nombre = input('Introduce el nombre del estudiante: ')\n",
        "met = float(input('Introduce su calificación de Metodología: '))\n",
        "seg = float(input('Introduce su calificación de Seguridad Nacional: '))\n",
        "eco = float(input('Introduce su calificación de Economía Urbana: '))\n",
        "mor = float(input('Introduce su calificación de Mortalidad y Salud: '))\n",
        "tra = float(input('Introduce su calificación de Trabajo: '))\n",
        "promedio = float((met + seg + eco + mor + tra) / 5)\n",
        "print('-'*40)\n",
        "if(promedio >= 8):\n",
        "  print(f'{nombre} está \"Aprobado\"')\n",
        "else:\n",
        "  print(f'{nombre} está \"Reprobado\"')"
      ],
      "metadata": {
        "colab": {
          "base_uri": "https://localhost:8080/"
        },
        "id": "6skmZHKcN2yY",
        "outputId": "6fccd528-d7b3-4fcb-d8a4-98e4c64317dc"
      },
      "execution_count": null,
      "outputs": [
        {
          "output_type": "stream",
          "name": "stdout",
          "text": [
            "Este programa genera el promedio de un estudiante y muestra si su estatus es \"Aprobado\" o \"Reprobado\"\n",
            "----------------------------------------\n",
            "Introduce el nombre del estudiante: 10\n",
            "Introduce su calificación de Metodología: 10\n",
            "Introduce su calificación de Seguridad Nacional: 10\n",
            "Introduce su calificación de Economía Urbana: 10\n",
            "Introduce su calificación de Mortalidad y Salud: 10\n",
            "Introduce su calificación de Trabajo: 10\n",
            "----------------------------------------\n",
            "10 está \"Aprobado\"\n"
          ]
        }
      ]
    },
    {
      "cell_type": "markdown",
      "source": [
        "### Ejercicio Resuelto 3.03\n",
        "Elaborar un programa que lea dos números enteros diferentes en rango del 1 – 100 e imprima el número mayor.\n",
        "\n",
        "Si la suma de los dos números es mayor a 100 imprimir un mensaje con el letrero “La sumatoria de los números es mayor a 100”\n"
      ],
      "metadata": {
        "id": "M0eGNcAXPHLH"
      }
    },
    {
      "cell_type": "code",
      "source": [
        "# Ejercicio Resuelto 3.03\n",
        "print('Este programa lee dos numeros diferentes en rango del 1-100, imprime el número mayor y si la sumatoria es mayor a 100 muestra un mensaje')\n",
        "print('-'*40)\n",
        "a = int(input('Introduce un primer número (rango 1-100): '))\n",
        "b = int(input('Introduce un segundo número (rango 1-100): '))\n",
        "print('-'*40)\n",
        "print('El mayor es: ')\n",
        "if(a > b):\n",
        "  print(a)\n",
        "else:\n",
        "  print(b)\n",
        "if((a + b) > 100):\n",
        "  print('La sumatoria de los números es mayor a 100')"
      ],
      "metadata": {
        "colab": {
          "base_uri": "https://localhost:8080/"
        },
        "id": "1F_78rxVPIh8",
        "outputId": "7112c295-81a7-4f49-93f1-efd564148b5f"
      },
      "execution_count": null,
      "outputs": [
        {
          "output_type": "stream",
          "name": "stdout",
          "text": [
            "Este programa lee dos numeros diferentes en rango del 1-100, imprime el número mayor y si la sumatoria es mayor a 100 muestra un mensaje\n",
            "----------------------------------------\n",
            "Introduce un primer número (rango 1-100): 50\n",
            "Introduce un segundo número (rango 1-100): 67\n",
            "----------------------------------------\n",
            "El mayor es: \n",
            "67\n",
            "La sumatoria de los números es mayor a 100\n"
          ]
        }
      ]
    },
    {
      "cell_type": "markdown",
      "source": [
        "### Ejercicio Propuesto 3.03\n",
        "Elaborar un programa que pida ingresar dos números.\n",
        "\n",
        "Si el primero es mayor al segundo imprimir:\n",
        "*   suma\n",
        "*   diferencia\n",
        "\n",
        "en caso contrario imprimir:\n",
        "\n",
        "*   producto\n",
        "*   división del primero respecto al segundo."
      ],
      "metadata": {
        "id": "oo7DGeogQRSe"
      }
    },
    {
      "cell_type": "code",
      "source": [
        "print('Operaciones distintas según número mayor')\n",
        "print('-'*40)\n",
        "a = int(input('Introduce un primer número: '))\n",
        "b = int(input('Introduce un segundo número: '))\n",
        "print('-'*40)\n",
        "print('El mayor es: ')\n",
        "if(a > b):\n",
        "  print(a)\n",
        "else:\n",
        "  print(b)\n",
        "print('-'*40)\n",
        "if(a > b):\n",
        "  print('Suma: ',(a+b))\n",
        "  print('Diferencia: ', (a-b))\n",
        "else:\n",
        "  print('Producto: ',(a*b))\n",
        "  print('División del primero respecto al segundo: ', (a/b))\n"
      ],
      "metadata": {
        "colab": {
          "base_uri": "https://localhost:8080/"
        },
        "id": "ebOw06XyQYnF",
        "outputId": "97332186-0067-48f7-9387-2e41f8ee3f8b"
      },
      "execution_count": null,
      "outputs": [
        {
          "output_type": "stream",
          "name": "stdout",
          "text": [
            "Operaciones distintas según número mayor\n",
            "----------------------------------------\n",
            "Introduce un primer número: 5\n",
            "Introduce un segundo número: 6\n",
            "----------------------------------------\n",
            "El mayor es: \n",
            "6\n",
            "----------------------------------------\n",
            "Producto:  30\n",
            "División del primero respecto al segundo:  0.8333333333333334\n"
          ]
        }
      ]
    },
    {
      "cell_type": "markdown",
      "source": [
        "### Ejercicio Resuelto 3.04\n",
        "Elaborar un programa que lea un valor entre 1 y 7 y despliegue:\n",
        "\n",
        "* Domingo si es 1\n",
        "* Lunes si es 2\n",
        "* Martes si es 3\n",
        "* Miércoles si es 4\n",
        "* Jueves si es 5\n",
        "* Viernes si es 6\n",
        "* Sábado si es 7"
      ],
      "metadata": {
        "id": "vDny5FmHSPIT"
      }
    },
    {
      "cell_type": "code",
      "source": [
        "# Ejercicio resuelto 3.04\n",
        "print('Nombre del día')\n",
        "print('-'*40)\n",
        "dia = int(input('Ingresa el número del día (1-7): '))\n",
        "print('-'*40)\n",
        "if(dia==1):\n",
        "  print('Domingo')\n",
        "elif(dia==2):\n",
        "  print('Lunes')\n",
        "elif(dia==3):\n",
        "  print('Martes')\n",
        "elif(dia==4):\n",
        "  print('Miércoles')\n",
        "elif(dia==5):\n",
        "  print('Jueves')\n",
        "elif(dia==6):\n",
        "  print('Viernes')\n",
        "elif(dia==7):\n",
        "  print('Sábado')\n",
        "else:\n",
        "  print('No está en el rango 1-7')\n"
      ],
      "metadata": {
        "colab": {
          "base_uri": "https://localhost:8080/"
        },
        "id": "Scntair2ST58",
        "outputId": "8ef76746-2418-4882-e50d-72d90d797f75"
      },
      "execution_count": null,
      "outputs": [
        {
          "output_type": "stream",
          "name": "stdout",
          "text": [
            "Nombre del día\n",
            "----------------------------------------\n",
            "Ingresa el número del día (1-7): 8\n",
            "----------------------------------------\n",
            "No está en el rango 1-7\n"
          ]
        }
      ]
    },
    {
      "cell_type": "markdown",
      "source": [
        "### Ejercicio Propuesto 3.04\n",
        "\n",
        "Elaborar un programa que pida ingresar por teclado un valor entero comprendido entre 1 y 5.\n",
        "\n",
        "Mostrar en castellano el valor ingresado o un mensaje indicando que se cargó un valor fuera de rango."
      ],
      "metadata": {
        "id": "f_ZMUzrWTth1"
      }
    },
    {
      "cell_type": "code",
      "source": [
        "print('Número con letra')\n",
        "print('-'*40)\n",
        "num = int(input('Ingresa un número entero en rango 1-5: '))\n",
        "print('-'*60)\n",
        "if(num==1):\n",
        "  print('Uno')\n",
        "elif(num==2):\n",
        "  print('Dos')\n",
        "elif(num==3):\n",
        "  print('Tres')\n",
        "elif(num==4):\n",
        "  print('Cuatro')\n",
        "elif(num==5):\n",
        "  print('Cinco')\n",
        "else:\n",
        "  print('No está en rango 1-5')\n"
      ],
      "metadata": {
        "colab": {
          "base_uri": "https://localhost:8080/"
        },
        "id": "3jDjpaS3TvIz",
        "outputId": "ecbdc929-ab8d-4f14-fb80-9e2a4582c8b0"
      },
      "execution_count": null,
      "outputs": [
        {
          "output_type": "stream",
          "name": "stdout",
          "text": [
            "Número con letra\n",
            "----------------------------------------\n",
            "Ingresa un número entero en rango 1-5: 4\n",
            "------------------------------------------------------------\n",
            "Cuatro\n"
          ]
        }
      ]
    },
    {
      "cell_type": "markdown",
      "source": [
        "### Ejercicio Resuelto 3.05\n",
        "Confeccionar un programa que pida por teclado tres notas de un alumno, calcule el promedio e imprima alguno de estos mensajes:\n",
        "\n",
        "* Si el promedio es >= 7 mostrar: \"Promocionado\".\n",
        "\n",
        "* Si el promedio es >= 4 y < 7 mostrar: \"Regular\".\n",
        "\n",
        "* Si el promedio es < 4 mostrar: \"Reprobado\"."
      ],
      "metadata": {
        "id": "HLMnK5nPVMNZ"
      }
    },
    {
      "cell_type": "code",
      "source": [
        "print('Promedio y mensaje')\n",
        "print('-'*60)\n",
        "a = float(input('Introduce la nota 1: '))\n",
        "b = float(input('Introduce la nota 2: '))\n",
        "c = float(input('Introduce la nota 3: '))\n",
        "print('-'*60)\n",
        "promedio = (a + b + c) / 3\n",
        "print('Promedio: ', promedio)\n",
        "if(promedio >= 7):\n",
        "  print('Promocionado')\n",
        "else:\n",
        "  if(promedio >= 4):\n",
        "    print('Regular')\n",
        "  else:\n",
        "    print('Reprobado')"
      ],
      "metadata": {
        "colab": {
          "base_uri": "https://localhost:8080/"
        },
        "id": "szR6e_ZaVNaO",
        "outputId": "f41e0266-4161-48b5-e7ff-a1ae5f6286fc"
      },
      "execution_count": null,
      "outputs": [
        {
          "output_type": "stream",
          "name": "stdout",
          "text": [
            "Promedio y mensaje\n",
            "------------------------------------------------------------\n",
            "Introduce la nota 1: 9\n",
            "Introduce la nota 2: 8\n",
            "Introduce la nota 3: 7\n",
            "------------------------------------------------------------\n",
            "Promedio:  8.0\n",
            "Promocionado\n"
          ]
        }
      ]
    },
    {
      "cell_type": "markdown",
      "source": [
        "### Ejercicio Propuesto 3.05\n",
        "\n",
        "Elaborar un programa que pida ingresar tres números distintos e imprimir en pantalla el menor de ellos."
      ],
      "metadata": {
        "id": "o6PwYknVWgr8"
      }
    },
    {
      "cell_type": "code",
      "source": [
        "print('Menor de tres')\n",
        "print('-'*60)\n",
        "a = float(input('Introduce el número 1: '))\n",
        "b = float(input('Introduce el número 2: '))\n",
        "c = float(input('Introduce el número 3: '))\n",
        "print('-'*60)\n",
        "if((a < b) & (a < c)):\n",
        "  print(a)\n",
        "else:\n",
        "  if((b < a) & (b < c)):\n",
        "    print(b)\n",
        "  else:\n",
        "    print(c)\n"
      ],
      "metadata": {
        "colab": {
          "base_uri": "https://localhost:8080/"
        },
        "id": "lPnY1nP2Wm6P",
        "outputId": "4d2f2172-5c60-4e17-e363-0a86e08814a8"
      },
      "execution_count": null,
      "outputs": [
        {
          "output_type": "stream",
          "name": "stdout",
          "text": [
            "Menor de tres\n",
            "------------------------------------------------------------\n",
            "Introduce el número 1: 2\n",
            "Introduce el número 2: 3\n",
            "Introduce el número 3: 1\n",
            "------------------------------------------------------------\n",
            "1.0\n"
          ]
        }
      ]
    }
  ]
}